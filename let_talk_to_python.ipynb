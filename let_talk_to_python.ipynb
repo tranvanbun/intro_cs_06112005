{
 "cells": [
  {
   "cell_type": "markdown",
   "id": "74024b7d",
   "metadata": {},
   "source": [
    "## MATH"
   ]
  },
  {
   "cell_type": "code",
   "execution_count": 6,
   "id": "3b39485a",
   "metadata": {},
   "outputs": [
    {
     "data": {
      "text/plain": [
       "46"
      ]
     },
     "execution_count": 6,
     "metadata": {},
     "output_type": "execute_result"
    }
   ],
   "source": [
    "# phep cong\n",
    "12+34"
   ]
  },
  {
   "cell_type": "code",
   "execution_count": 7,
   "id": "5aa3e4f7",
   "metadata": {},
   "outputs": [
    {
     "data": {
      "text/plain": [
       "6646"
      ]
     },
     "execution_count": 7,
     "metadata": {},
     "output_type": "execute_result"
    }
   ],
   "source": [
    "# phep tru\n",
    "9489-2843"
   ]
  },
  {
   "cell_type": "code",
   "execution_count": 8,
   "id": "a8fe981c",
   "metadata": {},
   "outputs": [
    {
     "data": {
      "text/plain": [
       "6552"
      ]
     },
     "execution_count": 8,
     "metadata": {},
     "output_type": "execute_result"
    }
   ],
   "source": [
    "# phép nhân\n",
    "24*273"
   ]
  },
  {
   "cell_type": "code",
   "execution_count": 9,
   "id": "bf5f8411",
   "metadata": {},
   "outputs": [
    {
     "data": {
      "text/plain": [
       "4.0"
      ]
     },
     "execution_count": 9,
     "metadata": {},
     "output_type": "execute_result"
    }
   ],
   "source": [
    "# phép chia \n",
    "32/8"
   ]
  },
  {
   "cell_type": "code",
   "execution_count": 11,
   "id": "08611d38",
   "metadata": {},
   "outputs": [
    {
     "data": {
      "text/plain": [
       "7.666666666666667"
      ]
     },
     "execution_count": 11,
     "metadata": {},
     "output_type": "execute_result"
    }
   ],
   "source": [
    "23/3"
   ]
  },
  {
   "cell_type": "code",
   "execution_count": 12,
   "id": "e97c3b2d",
   "metadata": {},
   "outputs": [
    {
     "data": {
      "text/plain": [
       "6.667"
      ]
     },
     "execution_count": 12,
     "metadata": {},
     "output_type": "execute_result"
    }
   ],
   "source": [
    "round (20/3 ,3)"
   ]
  },
  {
   "cell_type": "code",
   "execution_count": 14,
   "id": "a9e4b8ca",
   "metadata": {},
   "outputs": [
    {
     "name": "stdout",
     "output_type": "stream",
     "text": [
      "Object `strings` not found.\n"
     ]
    }
   ],
   "source": [
    "??strings"
   ]
  },
  {
   "cell_type": "code",
   "execution_count": 15,
   "id": "094209eb",
   "metadata": {},
   "outputs": [
    {
     "data": {
      "text/plain": [
       "True"
      ]
     },
     "execution_count": 15,
     "metadata": {},
     "output_type": "execute_result"
    }
   ],
   "source": [
    "6==6"
   ]
  },
  {
   "cell_type": "code",
   "execution_count": 16,
   "id": "0e204758",
   "metadata": {},
   "outputs": [
    {
     "data": {
      "text/plain": [
       "True"
      ]
     },
     "execution_count": 16,
     "metadata": {},
     "output_type": "execute_result"
    }
   ],
   "source": [
    "64372*436>64*3721"
   ]
  },
  {
   "cell_type": "code",
   "execution_count": 17,
   "id": "cee06da0",
   "metadata": {},
   "outputs": [
    {
     "data": {
      "text/plain": [
       "True"
      ]
     },
     "execution_count": 17,
     "metadata": {},
     "output_type": "execute_result"
    }
   ],
   "source": [
    "7>=6"
   ]
  },
  {
   "cell_type": "code",
   "execution_count": 18,
   "id": "5d1fa55b",
   "metadata": {},
   "outputs": [
    {
     "data": {
      "text/plain": [
       "True"
      ]
     },
     "execution_count": 18,
     "metadata": {},
     "output_type": "execute_result"
    }
   ],
   "source": [
    "7>=7"
   ]
  },
  {
   "cell_type": "code",
   "execution_count": 21,
   "id": "67438985",
   "metadata": {},
   "outputs": [
    {
     "ename": "SyntaxError",
     "evalue": "invalid syntax (2674681990.py, line 1)",
     "output_type": "error",
     "traceback": [
      "\u001b[0;36m  Cell \u001b[0;32mIn [21], line 1\u001b[0;36m\u001b[0m\n\u001b[0;31m    print (\"hey boy\"[])\u001b[0m\n\u001b[0m                     ^\u001b[0m\n\u001b[0;31mSyntaxError\u001b[0m\u001b[0;31m:\u001b[0m invalid syntax\n"
     ]
    }
   ],
   "source": [
    "print (\"hey boy\"[])"
   ]
  },
  {
   "cell_type": "code",
   "execution_count": 22,
   "id": "95f8a431",
   "metadata": {},
   "outputs": [
    {
     "data": {
      "text/plain": [
       "4"
      ]
     },
     "execution_count": 22,
     "metadata": {},
     "output_type": "execute_result"
    }
   ],
   "source": [
    "# phép chia lấy phần nguyên\n",
    "9//2"
   ]
  },
  {
   "cell_type": "code",
   "execution_count": 23,
   "id": "90e95306",
   "metadata": {},
   "outputs": [
    {
     "data": {
      "text/plain": [
       "1"
      ]
     },
     "execution_count": 23,
     "metadata": {},
     "output_type": "execute_result"
    }
   ],
   "source": [
    "#phép chai lấy phần dư\n",
    "9%2"
   ]
  },
  {
   "cell_type": "code",
   "execution_count": 24,
   "id": "633d5ca8",
   "metadata": {},
   "outputs": [
    {
     "data": {
      "text/plain": [
       "27"
      ]
     },
     "execution_count": 24,
     "metadata": {},
     "output_type": "execute_result"
    }
   ],
   "source": [
    "#phép lũy thừa\n",
    "3**3"
   ]
  },
  {
   "cell_type": "code",
   "execution_count": 25,
   "id": "8679bfbd",
   "metadata": {},
   "outputs": [
    {
     "name": "stdout",
     "output_type": "stream",
     "text": [
      "hơ are you\n"
     ]
    }
   ],
   "source": [
    "# in văn bản\n",
    "print(\"hơ are you\")"
   ]
  },
  {
   "cell_type": "code",
   "execution_count": 26,
   "id": "69aeaee4",
   "metadata": {},
   "outputs": [
    {
     "data": {
      "text/plain": [
       "-4"
      ]
     },
     "execution_count": 26,
     "metadata": {},
     "output_type": "execute_result"
    }
   ],
   "source": [
    "1+3*3-(9+5)"
   ]
  },
  {
   "cell_type": "code",
   "execution_count": 27,
   "id": "3404a655",
   "metadata": {},
   "outputs": [
    {
     "data": {
      "text/plain": [
       "'hello!'"
      ]
     },
     "execution_count": 27,
     "metadata": {},
     "output_type": "execute_result"
    }
   ],
   "source": [
    "\"hello!\""
   ]
  },
  {
   "cell_type": "code",
   "execution_count": 28,
   "id": "82e524d1",
   "metadata": {},
   "outputs": [
    {
     "data": {
      "text/plain": [
       "'haha *235'"
      ]
     },
     "execution_count": 28,
     "metadata": {},
     "output_type": "execute_result"
    }
   ],
   "source": [
    "\"haha *235\""
   ]
  },
  {
   "cell_type": "markdown",
   "id": "918182f0",
   "metadata": {},
   "source": [
    "# strings"
   ]
  },
  {
   "cell_type": "code",
   "execution_count": 30,
   "id": "eee67265",
   "metadata": {},
   "outputs": [
    {
     "data": {
      "text/plain": [
       "'hello!'"
      ]
     },
     "execution_count": 30,
     "metadata": {},
     "output_type": "execute_result"
    }
   ],
   "source": [
    "\"hello!\""
   ]
  },
  {
   "cell_type": "code",
   "execution_count": 31,
   "id": "069a1d3f",
   "metadata": {},
   "outputs": [
    {
     "data": {
      "text/plain": [
       "'apple'"
      ]
     },
     "execution_count": 31,
     "metadata": {},
     "output_type": "execute_result"
    }
   ],
   "source": [
    "\"apple\""
   ]
  },
  {
   "cell_type": "code",
   "execution_count": 32,
   "id": "15c03bbe",
   "metadata": {},
   "outputs": [
    {
     "data": {
      "text/plain": [
       "'3 +5'"
      ]
     },
     "execution_count": 32,
     "metadata": {},
     "output_type": "execute_result"
    }
   ],
   "source": [
    "\"3 +5\""
   ]
  },
  {
   "cell_type": "markdown",
   "id": "69581e02",
   "metadata": {},
   "source": [
    "### STRINGS OPERATOR"
   ]
  },
  {
   "cell_type": "code",
   "execution_count": 33,
   "id": "d6f51e67",
   "metadata": {},
   "outputs": [
    {
     "data": {
      "text/plain": [
       "'hi there!'"
      ]
     },
     "execution_count": 33,
     "metadata": {},
     "output_type": "execute_result"
    }
   ],
   "source": [
    "\"hi\" + \" there!\""
   ]
  },
  {
   "cell_type": "code",
   "execution_count": 34,
   "id": "068f6708",
   "metadata": {},
   "outputs": [
    {
     "ename": "SyntaxError",
     "evalue": "unexpected character after line continuation character (3020072313.py, line 1)",
     "output_type": "error",
     "traceback": [
      "\u001b[0;36m  Cell \u001b[0;32mIn [34], line 1\u001b[0;36m\u001b[0m\n\u001b[0;31m    \"hi\"\\ *250\u001b[0m\n\u001b[0m             ^\u001b[0m\n\u001b[0;31mSyntaxError\u001b[0m\u001b[0;31m:\u001b[0m unexpected character after line continuation character\n"
     ]
    }
   ],
   "source": [
    "\"hi\"\\ *250"
   ]
  },
  {
   "cell_type": "markdown",
   "id": "cbf91fda",
   "metadata": {},
   "source": [
    "### string index\n",
    "rule\n",
    "-indexes start at 0\n",
    "-spaces inside the string are counted\n"
   ]
  },
  {
   "cell_type": "code",
   "execution_count": 35,
   "id": "dc915b7e",
   "metadata": {},
   "outputs": [
    {
     "data": {
      "text/plain": [
       "'Hello'"
      ]
     },
     "execution_count": 35,
     "metadata": {},
     "output_type": "execute_result"
    }
   ],
   "source": [
    "\"H\"+\"e\"+\"l\"+\"l\"+\"o\""
   ]
  },
  {
   "cell_type": "code",
   "execution_count": 36,
   "id": "b469ea5a",
   "metadata": {},
   "outputs": [
    {
     "data": {
      "text/plain": [
       "'h'"
      ]
     },
     "execution_count": 36,
     "metadata": {},
     "output_type": "execute_result"
    }
   ],
   "source": [
    "'hello'[0]"
   ]
  },
  {
   "cell_type": "code",
   "execution_count": 37,
   "id": "57cf4810",
   "metadata": {},
   "outputs": [
    {
     "data": {
      "text/plain": [
       "'y'"
      ]
     },
     "execution_count": 37,
     "metadata": {},
     "output_type": "execute_result"
    }
   ],
   "source": [
    "\"hey you\"[4]"
   ]
  },
  {
   "cell_type": "markdown",
   "id": "6929eb5f",
   "metadata": {},
   "source": [
    "### string functions"
   ]
  },
  {
   "cell_type": "code",
   "execution_count": 38,
   "id": "14f01185",
   "metadata": {},
   "outputs": [
    {
     "data": {
      "text/plain": [
       "'TRẦN VĂN BUN'"
      ]
     },
     "execution_count": 38,
     "metadata": {},
     "output_type": "execute_result"
    }
   ],
   "source": [
    "\"Trần Văn Bun\".upper()"
   ]
  },
  {
   "cell_type": "code",
   "execution_count": 40,
   "id": "ff583c29",
   "metadata": {},
   "outputs": [
    {
     "data": {
      "text/plain": [
       "'trần văn bun'"
      ]
     },
     "execution_count": 40,
     "metadata": {},
     "output_type": "execute_result"
    }
   ],
   "source": [
    "'TRẦN VĂN BUN'.lower()"
   ]
  },
  {
   "cell_type": "code",
   "execution_count": 41,
   "id": "213d9540",
   "metadata": {},
   "outputs": [
    {
     "data": {
      "text/plain": [
       "16"
      ]
     },
     "execution_count": 41,
     "metadata": {},
     "output_type": "execute_result"
    }
   ],
   "source": [
    "len(\"this is a string\")"
   ]
  },
  {
   "cell_type": "code",
   "execution_count": 42,
   "id": "8f2add30",
   "metadata": {},
   "outputs": [],
   "source": [
    "?? len"
   ]
  },
  {
   "cell_type": "code",
   "execution_count": 43,
   "id": "587cc3c8",
   "metadata": {},
   "outputs": [
    {
     "data": {
      "text/plain": [
       "'this is a string'"
      ]
     },
     "execution_count": 43,
     "metadata": {},
     "output_type": "execute_result"
    }
   ],
   "source": [
    "\"   this is a string   \".strip()"
   ]
  },
  {
   "cell_type": "code",
   "execution_count": 45,
   "id": "509e3054",
   "metadata": {},
   "outputs": [
    {
     "ename": "AttributeError",
     "evalue": "'str' object has no attribute 'startwish'",
     "output_type": "error",
     "traceback": [
      "\u001b[0;31m---------------------------------------------------------------------------\u001b[0m",
      "\u001b[0;31mAttributeError\u001b[0m                            Traceback (most recent call last)",
      "Cell \u001b[0;32mIn [45], line 1\u001b[0m\n\u001b[0;32m----> 1\u001b[0m \u001b[38;5;124;43m'\u001b[39;49m\u001b[38;5;124;43mthis is a string\u001b[39;49m\u001b[38;5;124;43m'\u001b[39;49m\u001b[38;5;241;43m.\u001b[39;49m\u001b[43mstartwish\u001b[49m()\n",
      "\u001b[0;31mAttributeError\u001b[0m: 'str' object has no attribute 'startwish'"
     ]
    }
   ],
   "source": [
    "'this is a string'.startwish()"
   ]
  },
  {
   "cell_type": "code",
   "execution_count": 48,
   "id": "75ec1e5a",
   "metadata": {},
   "outputs": [
    {
     "data": {
      "text/plain": [
       "True"
      ]
     },
     "execution_count": 48,
     "metadata": {},
     "output_type": "execute_result"
    }
   ],
   "source": [
    "'this is a string' .endswith(\"g\")"
   ]
  },
  {
   "cell_type": "code",
   "execution_count": 49,
   "id": "e12d271b",
   "metadata": {},
   "outputs": [
    {
     "data": {
      "text/plain": [
       "'ike '"
      ]
     },
     "execution_count": 49,
     "metadata": {},
     "output_type": "execute_result"
    }
   ],
   "source": [
    "\" like new\"[2:6]"
   ]
  },
  {
   "cell_type": "code",
   "execution_count": 50,
   "id": "c86eb204",
   "metadata": {},
   "outputs": [
    {
     "data": {
      "text/plain": [
       "'w'"
      ]
     },
     "execution_count": 50,
     "metadata": {},
     "output_type": "execute_result"
    }
   ],
   "source": [
    "\"like new\"[-1]"
   ]
  },
  {
   "cell_type": "code",
   "execution_count": 51,
   "id": "de6f63cb",
   "metadata": {},
   "outputs": [
    {
     "data": {
      "text/plain": [
       "'llo worl'"
      ]
     },
     "execution_count": 51,
     "metadata": {},
     "output_type": "execute_result"
    }
   ],
   "source": [
    "C[2:10]"
   ]
  },
  {
   "cell_type": "code",
   "execution_count": 52,
   "id": "acc49761",
   "metadata": {},
   "outputs": [
    {
     "data": {
      "text/plain": [
       "'llo worl'"
      ]
     },
     "execution_count": 52,
     "metadata": {},
     "output_type": "execute_result"
    }
   ],
   "source": [
    "\"hello world!\"[2:-2]"
   ]
  },
  {
   "cell_type": "code",
   "execution_count": 53,
   "id": "31dbc756",
   "metadata": {},
   "outputs": [
    {
     "data": {
      "text/plain": [
       "'hlowr'"
      ]
     },
     "execution_count": 53,
     "metadata": {},
     "output_type": "execute_result"
    }
   ],
   "source": [
    "\"hello world!\"[0:10:2]"
   ]
  },
  {
   "cell_type": "code",
   "execution_count": 54,
   "id": "daecd2ba",
   "metadata": {},
   "outputs": [
    {
     "data": {
      "text/plain": [
       "'!dlrow olleh'"
      ]
     },
     "execution_count": 54,
     "metadata": {},
     "output_type": "execute_result"
    }
   ],
   "source": [
    "\"hello world!\"[::-1]"
   ]
  },
  {
   "cell_type": "markdown",
   "id": "b523148b",
   "metadata": {},
   "source": [
    "# Variables"
   ]
  },
  {
   "cell_type": "code",
   "execution_count": 55,
   "id": "b87a4941",
   "metadata": {},
   "outputs": [],
   "source": [
    "a=12**2"
   ]
  },
  {
   "cell_type": "code",
   "execution_count": 56,
   "id": "a520c035",
   "metadata": {},
   "outputs": [
    {
     "data": {
      "text/plain": [
       "144"
      ]
     },
     "execution_count": 56,
     "metadata": {},
     "output_type": "execute_result"
    }
   ],
   "source": [
    "a"
   ]
  },
  {
   "cell_type": "code",
   "execution_count": 57,
   "id": "48fa65ee",
   "metadata": {},
   "outputs": [],
   "source": [
    "b=2"
   ]
  },
  {
   "cell_type": "code",
   "execution_count": 58,
   "id": "8ee5188e",
   "metadata": {},
   "outputs": [
    {
     "data": {
      "text/plain": [
       "288"
      ]
     },
     "execution_count": 58,
     "metadata": {},
     "output_type": "execute_result"
    }
   ],
   "source": [
    "a*b"
   ]
  },
  {
   "cell_type": "code",
   "execution_count": 59,
   "id": "a39747c9",
   "metadata": {},
   "outputs": [],
   "source": [
    "a=\"hello world!\""
   ]
  },
  {
   "cell_type": "code",
   "execution_count": 60,
   "id": "ffe745a2",
   "metadata": {},
   "outputs": [
    {
     "data": {
      "text/plain": [
       "12"
      ]
     },
     "execution_count": 60,
     "metadata": {},
     "output_type": "execute_result"
    }
   ],
   "source": [
    "len(a)"
   ]
  },
  {
   "cell_type": "code",
   "execution_count": 61,
   "id": "be4468f4",
   "metadata": {},
   "outputs": [
    {
     "data": {
      "text/plain": [
       "True"
      ]
     },
     "execution_count": 61,
     "metadata": {},
     "output_type": "execute_result"
    }
   ],
   "source": [
    "a. startswith(\"he\")"
   ]
  },
  {
   "cell_type": "code",
   "execution_count": 62,
   "id": "b2091993",
   "metadata": {},
   "outputs": [
    {
     "name": "stdout",
     "output_type": "stream",
     "text": [
      "HI\n"
     ]
    }
   ],
   "source": [
    "s=input()"
   ]
  },
  {
   "cell_type": "code",
   "execution_count": 64,
   "id": "c274ba62",
   "metadata": {},
   "outputs": [
    {
     "data": {
      "text/plain": [
       "'HI'"
      ]
     },
     "execution_count": 64,
     "metadata": {},
     "output_type": "execute_result"
    }
   ],
   "source": [
    "s"
   ]
  },
  {
   "cell_type": "code",
   "execution_count": 65,
   "id": "6af8733f",
   "metadata": {},
   "outputs": [
    {
     "data": {
      "text/plain": [
       "str"
      ]
     },
     "execution_count": 65,
     "metadata": {},
     "output_type": "execute_result"
    }
   ],
   "source": [
    "type(s)"
   ]
  },
  {
   "cell_type": "code",
   "execution_count": 66,
   "id": "854fcef4",
   "metadata": {},
   "outputs": [
    {
     "data": {
      "text/plain": [
       "'HIHIHIHIHI'"
      ]
     },
     "execution_count": 66,
     "metadata": {},
     "output_type": "execute_result"
    }
   ],
   "source": [
    "s*5"
   ]
  },
  {
   "cell_type": "code",
   "execution_count": 67,
   "id": "1c1237a4",
   "metadata": {},
   "outputs": [
    {
     "name": "stdout",
     "output_type": "stream",
     "text": [
      "453\n"
     ]
    }
   ],
   "source": [
    "s=int(input())"
   ]
  },
  {
   "cell_type": "code",
   "execution_count": 68,
   "id": "934917c7",
   "metadata": {},
   "outputs": [
    {
     "data": {
      "text/plain": [
       "int"
      ]
     },
     "execution_count": 68,
     "metadata": {},
     "output_type": "execute_result"
    }
   ],
   "source": [
    "type(s)"
   ]
  },
  {
   "cell_type": "code",
   "execution_count": 70,
   "id": "7f24fc85",
   "metadata": {},
   "outputs": [
    {
     "data": {
      "text/plain": [
       "14"
      ]
     },
     "execution_count": 70,
     "metadata": {},
     "output_type": "execute_result"
    }
   ],
   "source": [
    "len(\"bai tap ve nah\")"
   ]
  },
  {
   "cell_type": "code",
   "execution_count": 71,
   "id": "8d67726c",
   "metadata": {},
   "outputs": [
    {
     "name": "stdout",
     "output_type": "stream",
     "text": [
      "bai tap ve nha\n"
     ]
    },
    {
     "data": {
      "text/plain": [
       "14"
      ]
     },
     "execution_count": 71,
     "metadata": {},
     "output_type": "execute_result"
    }
   ],
   "source": [
    "x=input()\n",
    "len(x)"
   ]
  },
  {
   "cell_type": "code",
   "execution_count": 77,
   "id": "2ab8b819",
   "metadata": {},
   "outputs": [
    {
     "name": "stdout",
     "output_type": "stream",
     "text": [
      "{'g': 2, 'o': 3, 'l': 1, 'e': 1, '.': 1, 'c': 1, 'm': 1}\n"
     ]
    }
   ],
   "source": [
    "def char_frequency(str1):\n",
    "    dict = {}\n",
    "    for n in str1:\n",
    "        keys = dict.keys()\n",
    "        if n in keys:\n",
    "            dict[n] += 1\n",
    "        else:\n",
    "            dict[n] = 1\n",
    "    return dict\n",
    "print(char_frequency('google.com'))"
   ]
  },
  {
   "cell_type": "code",
   "execution_count": 78,
   "id": "3fbf1812",
   "metadata": {},
   "outputs": [],
   "source": [
    "?? dict"
   ]
  },
  {
   "cell_type": "code",
   "execution_count": 79,
   "id": "5ea77b29",
   "metadata": {},
   "outputs": [
    {
     "name": "stdout",
     "output_type": "stream",
     "text": [
      "Object ` count` not found.\n"
     ]
    }
   ],
   "source": [
    "?? count"
   ]
  },
  {
   "cell_type": "code",
   "execution_count": 80,
   "id": "bc68a57a",
   "metadata": {},
   "outputs": [
    {
     "name": "stdout",
     "output_type": "stream",
     "text": [
      "Object ` l.count` not found.\n"
     ]
    }
   ],
   "source": [
    "? l.count"
   ]
  },
  {
   "cell_type": "code",
   "execution_count": 81,
   "id": "61121104",
   "metadata": {},
   "outputs": [
    {
     "name": "stdout",
     "output_type": "stream",
     "text": [
      "Object ` .count` not found.\n"
     ]
    }
   ],
   "source": [
    "?? .count"
   ]
  },
  {
   "cell_type": "code",
   "execution_count": 85,
   "id": "5523e276",
   "metadata": {},
   "outputs": [
    {
     "data": {
      "text/plain": [
       "2"
      ]
     },
     "execution_count": 85,
     "metadata": {},
     "output_type": "execute_result"
    }
   ],
   "source": [
    "a=\"gágshfs\"\n",
    "a .count(\"g\")"
   ]
  },
  {
   "cell_type": "code",
   "execution_count": 86,
   "id": "a9199449",
   "metadata": {},
   "outputs": [],
   "source": [
    "a=\"agsgjdg\""
   ]
  },
  {
   "cell_type": "code",
   "execution_count": 87,
   "id": "d4a198a6",
   "metadata": {},
   "outputs": [
    {
     "data": {
      "text/plain": [
       "'agsgj'"
      ]
     },
     "execution_count": 87,
     "metadata": {},
     "output_type": "execute_result"
    }
   ],
   "source": [
    "a[:-2]"
   ]
  },
  {
   "cell_type": "code",
   "execution_count": 88,
   "id": "1ab72967",
   "metadata": {},
   "outputs": [
    {
     "data": {
      "text/plain": [
       "''"
      ]
     },
     "execution_count": 88,
     "metadata": {},
     "output_type": "execute_result"
    }
   ],
   "source": [
    "a[-1:-2]"
   ]
  },
  {
   "cell_type": "code",
   "execution_count": 91,
   "id": "c44fc274",
   "metadata": {},
   "outputs": [
    {
     "data": {
      "text/plain": [
       "'jd'"
      ]
     },
     "execution_count": 91,
     "metadata": {},
     "output_type": "execute_result"
    }
   ],
   "source": [
    "a[len(a)-:-1]"
   ]
  },
  {
   "cell_type": "code",
   "execution_count": 95,
   "id": "d0bb582b",
   "metadata": {},
   "outputs": [
    {
     "data": {
      "text/plain": [
       "'dg'"
      ]
     },
     "execution_count": 95,
     "metadata": {},
     "output_type": "execute_result"
    }
   ],
   "source": [
    "a[len(a)-2:len(a)]"
   ]
  },
  {
   "cell_type": "markdown",
   "id": "e6231e2c",
   "metadata": {},
   "source": [
    "# TYPE OF DATA"
   ]
  },
  {
   "cell_type": "code",
   "execution_count": 1,
   "id": "4568f446",
   "metadata": {},
   "outputs": [
    {
     "ename": "NameError",
     "evalue": "name 'a' is not defined",
     "output_type": "error",
     "traceback": [
      "\u001b[0;31m---------------------------------------------------------------------------\u001b[0m",
      "\u001b[0;31mNameError\u001b[0m                                 Traceback (most recent call last)",
      "Cell \u001b[0;32mIn [1], line 1\u001b[0m\n\u001b[0;32m----> 1\u001b[0m \u001b[38;5;28minput\u001b[39m(\u001b[43ma\u001b[49m)\n",
      "\u001b[0;31mNameError\u001b[0m: name 'a' is not defined"
     ]
    }
   ],
   "source": [
    "input(a)"
   ]
  },
  {
   "cell_type": "code",
   "execution_count": 2,
   "id": "604176e5",
   "metadata": {},
   "outputs": [
    {
     "name": "stdout",
     "output_type": "stream",
     "text": [
      "bai 23\n"
     ]
    }
   ],
   "source": [
    "s=input()"
   ]
  },
  {
   "cell_type": "code",
   "execution_count": 3,
   "id": "100e9d7d",
   "metadata": {},
   "outputs": [
    {
     "data": {
      "text/plain": [
       "str"
      ]
     },
     "execution_count": 3,
     "metadata": {},
     "output_type": "execute_result"
    }
   ],
   "source": [
    "type(s)"
   ]
  },
  {
   "cell_type": "code",
   "execution_count": 4,
   "id": "ba5c1984",
   "metadata": {},
   "outputs": [
    {
     "name": "stdout",
     "output_type": "stream",
     "text": [
      "12.342\n"
     ]
    }
   ],
   "source": [
    "s=input()"
   ]
  },
  {
   "cell_type": "code",
   "execution_count": null,
   "id": "96626a2a",
   "metadata": {},
   "outputs": [],
   "source": []
  },
  {
   "cell_type": "code",
   "execution_count": 5,
   "id": "d995cd18",
   "metadata": {},
   "outputs": [
    {
     "data": {
      "text/plain": [
       "str"
      ]
     },
     "execution_count": 5,
     "metadata": {},
     "output_type": "execute_result"
    }
   ],
   "source": [
    "type(s)"
   ]
  },
  {
   "cell_type": "code",
   "execution_count": 6,
   "id": "7222e075",
   "metadata": {},
   "outputs": [],
   "source": [
    "s=112.42"
   ]
  },
  {
   "cell_type": "code",
   "execution_count": 7,
   "id": "2612038b",
   "metadata": {},
   "outputs": [
    {
     "data": {
      "text/plain": [
       "float"
      ]
     },
     "execution_count": 7,
     "metadata": {},
     "output_type": "execute_result"
    }
   ],
   "source": [
    "type(s)"
   ]
  },
  {
   "cell_type": "code",
   "execution_count": 8,
   "id": "5e9646ef",
   "metadata": {},
   "outputs": [
    {
     "name": "stdout",
     "output_type": "stream",
     "text": [
      "12\n"
     ]
    }
   ],
   "source": [
    "a=float(input())"
   ]
  },
  {
   "cell_type": "code",
   "execution_count": 9,
   "id": "dac39989",
   "metadata": {},
   "outputs": [
    {
     "data": {
      "text/plain": [
       "float"
      ]
     },
     "execution_count": 9,
     "metadata": {},
     "output_type": "execute_result"
    }
   ],
   "source": [
    "type(a)"
   ]
  },
  {
   "cell_type": "markdown",
   "id": "07d8958b",
   "metadata": {},
   "source": [
    "# Boolean"
   ]
  },
  {
   "cell_type": "code",
   "execution_count": 10,
   "id": "4ea3f203",
   "metadata": {},
   "outputs": [
    {
     "data": {
      "text/plain": [
       "False"
      ]
     },
     "execution_count": 10,
     "metadata": {},
     "output_type": "execute_result"
    }
   ],
   "source": [
    "False"
   ]
  },
  {
   "cell_type": "code",
   "execution_count": 11,
   "id": "217f47b3",
   "metadata": {},
   "outputs": [
    {
     "data": {
      "text/plain": [
       "True"
      ]
     },
     "execution_count": 11,
     "metadata": {},
     "output_type": "execute_result"
    }
   ],
   "source": [
    "True"
   ]
  },
  {
   "cell_type": "code",
   "execution_count": 12,
   "id": "69daa769",
   "metadata": {},
   "outputs": [
    {
     "data": {
      "text/plain": [
       "True"
      ]
     },
     "execution_count": 12,
     "metadata": {},
     "output_type": "execute_result"
    }
   ],
   "source": [
    "#and\n",
    "1==1 and 2!=4"
   ]
  },
  {
   "cell_type": "code",
   "execution_count": 14,
   "id": "719983fe",
   "metadata": {},
   "outputs": [
    {
     "data": {
      "text/plain": [
       "True"
      ]
     },
     "execution_count": 14,
     "metadata": {},
     "output_type": "execute_result"
    }
   ],
   "source": [
    "#or\n",
    "1==1 or 2==3"
   ]
  },
  {
   "cell_type": "code",
   "execution_count": 15,
   "id": "77917b00",
   "metadata": {},
   "outputs": [
    {
     "data": {
      "text/plain": [
       "False"
      ]
     },
     "execution_count": 15,
     "metadata": {},
     "output_type": "execute_result"
    }
   ],
   "source": [
    "True and False"
   ]
  },
  {
   "cell_type": "code",
   "execution_count": 5,
   "id": "8309b660",
   "metadata": {},
   "outputs": [
    {
     "data": {
      "text/plain": [
       "False"
      ]
     },
     "execution_count": 5,
     "metadata": {},
     "output_type": "execute_result"
    }
   ],
   "source": [
    "False and False"
   ]
  },
  {
   "cell_type": "code",
   "execution_count": 16,
   "id": "19c2b707",
   "metadata": {},
   "outputs": [
    {
     "data": {
      "text/plain": [
       "False"
      ]
     },
     "execution_count": 16,
     "metadata": {},
     "output_type": "execute_result"
    }
   ],
   "source": [
    "False and 1!=1"
   ]
  },
  {
   "cell_type": "code",
   "execution_count": 17,
   "id": "d08d51fb",
   "metadata": {},
   "outputs": [
    {
     "data": {
      "text/plain": [
       "False"
      ]
     },
     "execution_count": 17,
     "metadata": {},
     "output_type": "execute_result"
    }
   ],
   "source": [
    "\"test\" == \"tests\""
   ]
  },
  {
   "cell_type": "markdown",
   "id": "5befb18f",
   "metadata": {},
   "source": [
    "# List(danh sách)\n",
    "\n",
    "Danh sách là một chuỗi của các đối tượng (objects)"
   ]
  },
  {
   "cell_type": "code",
   "execution_count": 18,
   "id": "beebd261",
   "metadata": {},
   "outputs": [],
   "source": [
    "fruit=[\"apple\" , \"bnana\" , \"grape\"]"
   ]
  },
  {
   "cell_type": "code",
   "execution_count": 19,
   "id": "0c2b3c91",
   "metadata": {},
   "outputs": [
    {
     "data": {
      "text/plain": [
       "list"
      ]
     },
     "execution_count": 19,
     "metadata": {},
     "output_type": "execute_result"
    }
   ],
   "source": [
    "type(fruit)"
   ]
  },
  {
   "cell_type": "code",
   "execution_count": 21,
   "id": "0f8e1c06",
   "metadata": {},
   "outputs": [
    {
     "data": {
      "text/plain": [
       "'apple'"
      ]
     },
     "execution_count": 21,
     "metadata": {},
     "output_type": "execute_result"
    }
   ],
   "source": [
    "fruit[0]"
   ]
  },
  {
   "cell_type": "code",
   "execution_count": 22,
   "id": "46cb9aab",
   "metadata": {},
   "outputs": [],
   "source": [
    "number=[1,23,32,43,34,54]"
   ]
  },
  {
   "cell_type": "code",
   "execution_count": 23,
   "id": "971cad72",
   "metadata": {},
   "outputs": [
    {
     "data": {
      "text/plain": [
       "list"
      ]
     },
     "execution_count": 23,
     "metadata": {},
     "output_type": "execute_result"
    }
   ],
   "source": [
    "type(number)"
   ]
  },
  {
   "cell_type": "code",
   "execution_count": 24,
   "id": "6d4138a9",
   "metadata": {},
   "outputs": [
    {
     "name": "stdout",
     "output_type": "stream",
     "text": [
      "bnana\n"
     ]
    }
   ],
   "source": [
    "print(fruit[1])"
   ]
  },
  {
   "cell_type": "code",
   "execution_count": 25,
   "id": "62350233",
   "metadata": {},
   "outputs": [],
   "source": [
    "favorite=[\"white\",\"black\",\"blue\"]"
   ]
  },
  {
   "cell_type": "code",
   "execution_count": 27,
   "id": "56a25e78",
   "metadata": {},
   "outputs": [
    {
     "name": "stdout",
     "output_type": "stream",
     "text": [
      "black\n"
     ]
    }
   ],
   "source": [
    "print(favorite[1])"
   ]
  },
  {
   "cell_type": "markdown",
   "id": "6f860f8e",
   "metadata": {},
   "source": [
    "# một số hàng phương thức cho list\n",
    "list: lấy ra danh sách con\n",
    "\n",
    "ls[star:end:step]"
   ]
  },
  {
   "cell_type": "code",
   "execution_count": 28,
   "id": "d25201ad",
   "metadata": {},
   "outputs": [],
   "source": [
    "t=[12,232,3432,43,43,343]"
   ]
  },
  {
   "cell_type": "code",
   "execution_count": 30,
   "id": "22bea31b",
   "metadata": {},
   "outputs": [
    {
     "data": {
      "text/plain": [
       "[12, 232, 3432]"
      ]
     },
     "execution_count": 30,
     "metadata": {},
     "output_type": "execute_result"
    }
   ],
   "source": [
    "t[0:3]"
   ]
  },
  {
   "cell_type": "code",
   "execution_count": 31,
   "id": "d121638b",
   "metadata": {},
   "outputs": [
    {
     "data": {
      "text/plain": [
       "[232, 3432, 43, 43]"
      ]
     },
     "execution_count": 31,
     "metadata": {},
     "output_type": "execute_result"
    }
   ],
   "source": [
    "t[-5:-1]"
   ]
  },
  {
   "cell_type": "code",
   "execution_count": 32,
   "id": "052ee850",
   "metadata": {},
   "outputs": [
    {
     "data": {
      "text/plain": [
       "[12, 3432, 43]"
      ]
     },
     "execution_count": 32,
     "metadata": {},
     "output_type": "execute_result"
    }
   ],
   "source": [
    "t[::2]"
   ]
  },
  {
   "cell_type": "code",
   "execution_count": 33,
   "id": "b07eb28f",
   "metadata": {},
   "outputs": [
    {
     "data": {
      "text/plain": [
       "[343, 43, 43, 3432, 232, 12]"
      ]
     },
     "execution_count": 33,
     "metadata": {},
     "output_type": "execute_result"
    }
   ],
   "source": [
    "t[::-1]"
   ]
  },
  {
   "cell_type": "code",
   "execution_count": 34,
   "id": "fc514fd5",
   "metadata": {},
   "outputs": [],
   "source": [
    "# Insert\n",
    "lst=[1,2,4,5,6]"
   ]
  },
  {
   "cell_type": "code",
   "execution_count": 35,
   "id": "45dc1a90",
   "metadata": {},
   "outputs": [],
   "source": [
    "lst.insert(2,3)"
   ]
  },
  {
   "cell_type": "code",
   "execution_count": 36,
   "id": "496cad00",
   "metadata": {},
   "outputs": [
    {
     "data": {
      "text/plain": [
       "[1, 2, 3, 4, 5, 6]"
      ]
     },
     "execution_count": 36,
     "metadata": {},
     "output_type": "execute_result"
    }
   ],
   "source": [
    "lst"
   ]
  },
  {
   "cell_type": "code",
   "execution_count": 38,
   "id": "0dd42998",
   "metadata": {},
   "outputs": [],
   "source": [
    "lst.insert(0,8)"
   ]
  },
  {
   "cell_type": "code",
   "execution_count": 39,
   "id": "fd31c283",
   "metadata": {},
   "outputs": [
    {
     "data": {
      "text/plain": [
       "[8, 1, 2, 3, 4, 5, 6]"
      ]
     },
     "execution_count": 39,
     "metadata": {},
     "output_type": "execute_result"
    }
   ],
   "source": [
    "lst"
   ]
  },
  {
   "cell_type": "code",
   "execution_count": 42,
   "id": "34b6c9f0",
   "metadata": {},
   "outputs": [],
   "source": [
    "# append:thêm phần tử vào cuối danh sách\n",
    "lst.append(11)"
   ]
  },
  {
   "cell_type": "markdown",
   "id": "cc420933",
   "metadata": {},
   "source": [
    "lst.append sau ấn shift+tab"
   ]
  },
  {
   "cell_type": "code",
   "execution_count": 46,
   "id": "942c6ef4",
   "metadata": {},
   "outputs": [],
   "source": [
    "#remove\n",
    "lst.remove(8)"
   ]
  },
  {
   "cell_type": "code",
   "execution_count": 49,
   "id": "c64ff0ae",
   "metadata": {},
   "outputs": [],
   "source": [
    "#reverse\n",
    "lst.reverse()"
   ]
  },
  {
   "cell_type": "code",
   "execution_count": 50,
   "id": "9c3b575c",
   "metadata": {},
   "outputs": [],
   "source": [
    "del lst[6]"
   ]
  },
  {
   "cell_type": "code",
   "execution_count": 51,
   "id": "d4fef20b",
   "metadata": {},
   "outputs": [
    {
     "data": {
      "text/plain": [
       "[11, 11, 11, 6, 5, 4, 2, 1]"
      ]
     },
     "execution_count": 51,
     "metadata": {},
     "output_type": "execute_result"
    }
   ],
   "source": [
    "lst"
   ]
  },
  {
   "cell_type": "code",
   "execution_count": 52,
   "id": "efcf608b",
   "metadata": {},
   "outputs": [],
   "source": [
    "# sort\n",
    "lst.sort()"
   ]
  },
  {
   "cell_type": "code",
   "execution_count": 53,
   "id": "872cbb89",
   "metadata": {},
   "outputs": [
    {
     "data": {
      "text/plain": [
       "[1, 2, 4, 5, 6, 11, 11, 11]"
      ]
     },
     "execution_count": 53,
     "metadata": {},
     "output_type": "execute_result"
    }
   ],
   "source": [
    "lst"
   ]
  },
  {
   "cell_type": "code",
   "execution_count": 54,
   "id": "409f76fd",
   "metadata": {},
   "outputs": [],
   "source": [
    "lst.sort(reverse=True)"
   ]
  },
  {
   "cell_type": "markdown",
   "id": "ba5c8018",
   "metadata": {},
   "source": [
    "# danh sách đa chiều(Ma trận là danh sách 2 chiều)"
   ]
  },
  {
   "cell_type": "code",
   "execution_count": 56,
   "id": "d2f18be1",
   "metadata": {},
   "outputs": [],
   "source": [
    "matrix = [[10,13,14],[23,44,32],[23,54,54]]"
   ]
  },
  {
   "cell_type": "markdown",
   "id": "9c36b2ec",
   "metadata": {},
   "source": [
    "# biểu thức điều kiện và vòng lặp\n",
    "\n",
    "## if Statement"
   ]
  },
  {
   "cell_type": "code",
   "execution_count": 3,
   "id": "d42c8398",
   "metadata": {},
   "outputs": [
    {
     "name": "stdout",
     "output_type": "stream",
     "text": [
      "Nhập họ tên của bạn:Bun\n"
     ]
    }
   ],
   "source": [
    "name =input(\"Nhập họ tên của bạn:\")"
   ]
  },
  {
   "cell_type": "code",
   "execution_count": 4,
   "id": "67f8db71",
   "metadata": {},
   "outputs": [
    {
     "name": "stdout",
     "output_type": "stream",
     "text": [
      "xin chao\n"
     ]
    }
   ],
   "source": [
    "if name == \"Bun\":\n",
    "    print (\"xin chao\")\n",
    "else: print (\"khong phai la bun,ma la\", name)"
   ]
  },
  {
   "cell_type": "markdown",
   "id": "77db0eac",
   "metadata": {},
   "source": [
    "### Vòng lặp\n",
    "\n",
    "-counting loops (lặp đếm)\n",
    "\n",
    "-conditional loops(lặp điều kiện)"
   ]
  },
  {
   "cell_type": "code",
   "execution_count": null,
   "id": "be840319",
   "metadata": {},
   "outputs": [],
   "source": [
    "# counting loops - for\n",
    "for mynum in [1,2,3,4,5]:\n",
    "    newnum = mynum + 1\n",
    "    print(\"số mới là\",newnum)"
   ]
  },
  {
   "cell_type": "code",
   "execution_count": 73,
   "id": "daabb7a7",
   "metadata": {},
   "outputs": [
    {
     "name": "stdout",
     "output_type": "stream",
     "text": [
      "số đếm là: 1\n",
      "số đếm là: 2\n",
      "số đếm là: 3\n",
      "số đếm là: 4\n",
      "số đếm là: 5\n",
      "số đếm là: 6\n",
      "số đếm là: 7\n",
      "số đếm là: 8\n",
      "số đếm là: 9\n",
      "số đếm là: 10\n"
     ]
    }
   ],
   "source": [
    "#conditional loops -while\n",
    "count=0\n",
    "while (count<10):\n",
    "    count=count+1\n",
    "    print(\"số đếm là:\",count)"
   ]
  },
  {
   "cell_type": "code",
   "execution_count": 2,
   "id": "c80fa712",
   "metadata": {},
   "outputs": [
    {
     "data": {
      "text/plain": [
       "1"
      ]
     },
     "execution_count": 2,
     "metadata": {},
     "output_type": "execute_result"
    }
   ],
   "source": [
    "1501%4"
   ]
  },
  {
   "cell_type": "code",
   "execution_count": null,
   "id": "4cd78d03",
   "metadata": {},
   "outputs": [],
   "source": [
    "a=input(\"nhập giá trị của a\")"
   ]
  }
 ],
 "metadata": {
  "kernelspec": {
   "display_name": "Python 3 (ipykernel)",
   "language": "python",
   "name": "python3"
  },
  "language_info": {
   "codemirror_mode": {
    "name": "ipython",
    "version": 3
   },
   "file_extension": ".py",
   "mimetype": "text/x-python",
   "name": "python",
   "nbconvert_exporter": "python",
   "pygments_lexer": "ipython3",
   "version": "3.9.7"
  }
 },
 "nbformat": 4,
 "nbformat_minor": 5
}
